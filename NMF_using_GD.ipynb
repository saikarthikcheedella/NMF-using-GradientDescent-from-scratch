{
  "nbformat": 4,
  "nbformat_minor": 0,
  "metadata": {
    "colab": {
      "name": "NMF using GD",
      "provenance": [],
      "collapsed_sections": [],
      "toc_visible": true
    },
    "kernelspec": {
      "name": "python3",
      "display_name": "Python 3"
    }
  },
  "cells": [
    {
      "cell_type": "markdown",
      "metadata": {
        "id": "5FJozYOe5-ma",
        "colab_type": "text"
      },
      "source": [
        "## **Implementation of MF (Matrix Factorization) from the scratch**"
      ]
    },
    {
      "cell_type": "code",
      "metadata": {
        "id": "5i2U_AVwPTMF",
        "colab_type": "code",
        "colab": {}
      },
      "source": [
        "import warnings\n",
        "warnings.filterwarnings(\"ignore\")\n",
        "import pandas as pd\n",
        "import numpy as np\n",
        "from sklearn.preprocessing import StandardScaler\n",
        "from sklearn.metrics import mean_squared_error"
      ],
      "execution_count": 0,
      "outputs": []
    },
    {
      "cell_type": "markdown",
      "metadata": {
        "id": "n82L_LwaQMRv",
        "colab_type": "text"
      },
      "source": [
        "Decompose the matrix as follows, **R = B C**\n",
        "\n",
        "R = Ratings matrix (n*m)\n",
        "\n",
        "B = Users matrix (n*d)\n",
        "\n",
        "C = Items matrix (m*d) \n",
        "\n",
        "where, n_components= # dimensions (hyper-parameter)\n",
        "\n",
        "\n"
      ]
    },
    {
      "cell_type": "code",
      "metadata": {
        "id": "j62N9Idc9UaI",
        "colab_type": "code",
        "colab": {}
      },
      "source": [
        "np.random.seed(28)"
      ],
      "execution_count": 0,
      "outputs": []
    },
    {
      "cell_type": "markdown",
      "metadata": {
        "id": "gdSrtKCERIox",
        "colab_type": "text"
      },
      "source": [
        "**Objective/Loss function:** argmin ||R - B.C.T||^2 \n",
        "\n",
        "\n",
        "B = B - learning_rate*grad(L)/dB\n",
        "\n",
        "C = C - learning_rate*grad(L)/dC\n",
        "\n",
        "\n",
        "\n",
        "---\n",
        "\n",
        "\n",
        "B = B - rate * (B@C@ C.T - R@ C.T)\n",
        "\n",
        "C = C - rate * (B.T@B@C - B.T@R)\n",
        "\n"
      ]
    },
    {
      "cell_type": "markdown",
      "metadata": {
        "id": "8gYoI-GF5bhU",
        "colab_type": "text"
      },
      "source": [
        "### **Scratch code's implementation of NMF**"
      ]
    },
    {
      "cell_type": "code",
      "metadata": {
        "id": "_m3yuFXmPemn",
        "colab_type": "code",
        "colab": {}
      },
      "source": [
        "class NMF:\n",
        "    def __init__(self, n_components=2, learning_rate=0.01, max_iter=50):\n",
        "        self.n_components=n_components\n",
        "        self.learning_rate=learning_rate\n",
        "        self.max_iter=max_iter        \n",
        "        self.cost=[]\n",
        "\n",
        "    def fit(self, R):\n",
        "      try:\n",
        "        B=np.random.rand(R.shape[0],self.n_components)*0.01\n",
        "        C=np.random.rand(self.n_components, R.shape[1])*0.01        \n",
        "        for _ in range(self.max_iter):\n",
        "            grad_B = B@C@C.T - R@C.T\n",
        "            grad_C = B.T@B@C - B.T@R\n",
        "            #update B, C\n",
        "            B = B - self.learning_rate * grad_B\n",
        "            C = C - self.learning_rate * grad_C            \n",
        "            self.cost.append(np.abs(R-B@C).sum())        \n",
        "        self.B=B\n",
        "        self.C=C\n",
        "        return self.B, self.C\n",
        "      except Exception as e:\n",
        "        print(\"Exception \\\"{0}\\\" occured \",e)"
      ],
      "execution_count": 0,
      "outputs": []
    },
    {
      "cell_type": "code",
      "metadata": {
        "id": "v6gRKhKrYkFB",
        "colab_type": "code",
        "outputId": "162d90a1-b0ab-481a-99a1-09bd08b91d72",
        "colab": {
          "base_uri": "https://localhost:8080/",
          "height": 51
        }
      },
      "source": [
        "%%time\n",
        "obj = NMF(n_components=15, learning_rate=0.01, max_iter=300)\n",
        "#random inititalization of rating matrix\n",
        "R = np.random.rand(35,40)\n",
        "B1,C1 = obj.fit(R)\n"
      ],
      "execution_count": 0,
      "outputs": [
        {
          "output_type": "stream",
          "text": [
            "CPU times: user 26 ms, sys: 990 µs, total: 27 ms\n",
            "Wall time: 27.9 ms\n"
          ],
          "name": "stdout"
        }
      ]
    },
    {
      "cell_type": "markdown",
      "metadata": {
        "id": "CE8i82ItdiSU",
        "colab_type": "text"
      },
      "source": [
        "### **sklearn's implementation of NMF**"
      ]
    },
    {
      "cell_type": "code",
      "metadata": {
        "id": "fVfQf1XSdjQh",
        "colab_type": "code",
        "colab": {}
      },
      "source": [
        "from sklearn.decomposition import NMF\n",
        "model = NMF(n_components=15, init='random', random_state=28, max_iter=300, alpha=0.01)\n",
        "B2 = model.fit_transform(R)\n",
        "C2 = model.components_"
      ],
      "execution_count": 0,
      "outputs": []
    },
    {
      "cell_type": "code",
      "metadata": {
        "id": "BLFCaGx_gC5-",
        "colab_type": "code",
        "colab": {}
      },
      "source": [
        "## This is to compare the values of original matrix with decomposed matrix\n",
        "#display(R)\n",
        "#display(B2@C2)\n",
        "#np.absolute(R - B2@C2), \"..\",  np.absolute(R - B1@C1)"
      ],
      "execution_count": 0,
      "outputs": []
    },
    {
      "cell_type": "markdown",
      "metadata": {
        "id": "FMVZapguA5yY",
        "colab_type": "text"
      },
      "source": [
        "### **Gradient Descent plot- Loss v/s Iterations**"
      ]
    },
    {
      "cell_type": "code",
      "metadata": {
        "id": "ie1BMF-SA5CH",
        "colab_type": "code",
        "outputId": "b2d5e824-b02d-48fb-c492-76fd08d94629",
        "colab": {
          "base_uri": "https://localhost:8080/",
          "height": 279
        }
      },
      "source": [
        "import seaborn as sns\n",
        "import matplotlib.pyplot as plt\n",
        "\n",
        "sns.scatterplot(range(1,obj.max_iter+1), obj.cost)\n",
        "plt.xlabel(\"iterations\")\n",
        "plt.ylabel(\"loss\")\n",
        "plt.show()"
      ],
      "execution_count": 0,
      "outputs": [
        {
          "output_type": "display_data",
          "data": {
            "image/png": "[encoded data removed]",
            "text/plain": [
              "<Figure size 432x288 with 1 Axes>"
            ]
          },
          "metadata": {
            "tags": []
          }
        }
      ]
    },
    {
      "cell_type": "markdown",
      "metadata": {
        "id": "uswjmh5J9moV",
        "colab_type": "text"
      },
      "source": [
        "### **Comparing results**"
      ]
    },
    {
      "cell_type": "markdown",
      "metadata": {
        "id": "csz3T8A_-RZl",
        "colab_type": "text"
      },
      "source": [
        "I'm measuring the distance metric as\n",
        "\"The summation of absolute difference between orginal matrix(R) and its factors \n",
        "(B.C)\""
      ]
    },
    {
      "cell_type": "code",
      "metadata": {
        "id": "EBUzJe6xPeny",
        "colab_type": "code",
        "outputId": "134d9d57-fc51-4401-9ed9-fe8cbd29e4f4",
        "colab": {
          "base_uri": "https://localhost:8080/",
          "height": 136
        }
      },
      "source": [
        "from prettytable import PrettyTable\n",
        "pt = PrettyTable([\"\",\"GradientDescent' NMF\",\"Sklearn's NMF\"])\n",
        "pt.add_row([\"Dist b/w R and B*C\", np.abs(R-B2@C2).sum(), np.abs(R-B1@C1).sum()])\n",
        "pt.add_row([\"n_iter\", 300, 300])\n",
        "pt.add_row([\"learning_rate\", 0.01, 0.01])\n",
        "print(pt)"
      ],
      "execution_count": 0,
      "outputs": [
        {
          "output_type": "stream",
          "text": [
            "+--------------------+---------------------+--------------------+\n",
            "|                    | GradientDescent NMF |   Sklearn's NMF    |\n",
            "+--------------------+---------------------+--------------------+\n",
            "| Dist b/w R and B*C |  158.35862275434027 | 164.41611130406645 |\n",
            "|       n_iter       |         300         |        300         |\n",
            "|   learning_rate    |         0.01        |        0.01        |\n",
            "+--------------------+---------------------+--------------------+\n"
          ],
          "name": "stdout"
        }
      ]
    },
    {
      "cell_type": "code",
      "metadata": {
        "id": "aSWffUXiXpZB",
        "colab_type": "code",
        "colab": {}
      },
      "source": [
        ""
      ],
      "execution_count": 0,
      "outputs": []
    }
  ]
}